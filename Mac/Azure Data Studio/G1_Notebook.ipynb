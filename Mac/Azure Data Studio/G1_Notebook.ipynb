{
    "metadata": {
        "kernelspec": {
            "name": "SQL",
            "display_name": "SQL",
            "language": "sql"
        },
        "language_info": {
            "name": "sql",
            "version": ""
        }
    },
    "nbformat_minor": 2,
    "nbformat": 4,
    "cells": [
        {
            "cell_type": "code",
            "source": [
                "BEGIN TRAN\n",
                "--<full code>\n",
                "--select * from backupTableRef\n",
                "--select * from golfnowone.dbo.<tableUpdatedOrDeleted>\n",
                "ROLLBACK [COMMIT]"
            ],
            "metadata": {
                "azdata_cell_guid": "ba1cff55-0602-44ac-b241-dc68852e3aee",
                "tags": [
                    "hide_input"
                ]
            },
            "outputs": [],
            "execution_count": null
        },
        {
            "cell_type": "code",
            "source": [
                "USE GolfNowOne\n",
                "GO\n",
                "\n",
                "SELECT\n",
                "    TOP 50\n",
                "    COUNT(OI.ID), OI.OrderID, S.Name\n",
                "FROM [OrderItem] AS OI\n",
                "INNER JOIN [Order] AS O ON OI.OrderID = O.ID AND O.SourceID = 5\n",
                "INNER JOIN [Spa] AS S ON O.SpaID = S.ID\n",
                "GROUP BY OI.OrderID, S.Name\n",
                "HAVING COUNT(OI.ID) > 1\n",
                "ORDER BY COUNT(OI.ID) DESC"
            ],
            "metadata": {
                "azdata_cell_guid": "50ed4a67-0430-43af-b069-da7db653e2f5",
                "tags": [
                    "hide_input"
                ]
            },
            "outputs": [],
            "execution_count": null
        },
        {
            "cell_type": "code",
            "source": [
                "USE GolfNowOne\n",
                "GO\n",
                ";\n",
                "\n",
                "SELECT\n",
                "    C.ID\n",
                "    ,C.FirstName\n",
                "    ,C.LastName\n",
                "    ,C.Email\n",
                "    ,C.GUID\n",
                "    ,C.DateLastModified\n",
                "    ,S.ID AS [LocationID]\n",
                "    ,S.Name AS [Location]\n",
                "    ,B.ID AS [BrandID]\n",
                "    ,B.Name AS [Brand]\n",
                "FROM Customer AS C\n",
                "INNER JOIN Spa AS S ON C.SpaID = S.ID AND S.ID = 36044\n",
                "LEFT JOIN Brand AS B ON S.BrandID = B.ID\n",
                "WHERE C.FirstName NOT LIKE 'First%' AND C.LastName NOT LIKE 'Last%'"
            ],
            "metadata": {
                "azdata_cell_guid": "62b3bce6-9d95-41d7-86a4-4b2bc4e53f90",
                "tags": [
                    "hide_input"
                ]
            },
            "outputs": [],
            "execution_count": null
        },
        {
            "cell_type": "code",
            "source": [
                "USE GolfNowOne\n",
                "GO\n",
                ";\n",
                "\n",
                "SELECT\n",
                "*\n",
                "FROM [dbo].[dbverinfo]\n",
                "ORDER BY EventDate DESC"
            ],
            "metadata": {
                "azdata_cell_guid": "dced39a0-d9bb-409e-a134-e10f2e2fbd89",
                "tags": [
                    "hide_input"
                ]
            },
            "outputs": [],
            "execution_count": null
        }
    ]
}