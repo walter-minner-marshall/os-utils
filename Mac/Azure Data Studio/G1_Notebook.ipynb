{
    "metadata": {
        "kernelspec": {
            "name": "SQL",
            "display_name": "SQL",
            "language": "sql"
        },
        "language_info": {
            "name": "sql",
            "version": ""
        }
    },
    "nbformat_minor": 2,
    "nbformat": 4,
    "cells": [
        {
            "cell_type": "markdown",
            "source": [
                "**Version Info**"
            ],
            "metadata": {
                "azdata_cell_guid": "84d13025-035d-47a5-9287-528b10715143"
            }
        },
        {
            "cell_type": "code",
            "source": [
                "USE GolfNowOne\n",
                "GO\n",
                ";\n",
                "\n",
                "SELECT\n",
                "*\n",
                "FROM [dbo].[dbverinfo]\n",
                "ORDER BY EventDate DESC"
            ],
            "metadata": {
                "azdata_cell_guid": "dced39a0-d9bb-409e-a134-e10f2e2fbd89",
                "tags": [
                    "hide_input"
                ],
                "language": "sql"
            },
            "outputs": [],
            "execution_count": null
        },
        {
            "cell_type": "markdown",
            "source": [
                "**Orders/Min by type**"
            ],
            "metadata": {
                "azdata_cell_guid": "06cb09e6-131d-4aa8-ad02-5cfb2f0abb51"
            },
            "attachments": {}
        },
        {
            "cell_type": "code",
            "source": [
                "USE GolfNowOne\n",
                "GO\n",
                "\n",
                "--Testing Locations\n",
                "--fl_standard18(35650), fl_cody(35608), fl_standard9(35651)\n",
                "--ld_loadtest1(38119), ld_loadtest2(38120), ld_loadtest3(38121)\n",
                "--ld_loadtest4(38122), ld_loadtest5(38123), ld_loadtest6(38124), ld_loadtest7(38125)\n",
                "--ld_loadtest8(38126), ld_loadtest9(38127), ld_loadtest10(38128)\n",
                "\n",
                "\n",
                "-- Limit to automation 18 Holes location \n",
                "DECLARE @locationid AS INT = 38119;\n",
                "DECLARE @fromdate AS SMALLDATETIME = '03-22-2023 23:00:00';\n",
                "DECLARE @todate AS SMALLDATETIME = '03-23-2023 01:00:00';\n",
                "\n",
                "/*\n",
                "Count orders by minute created\n",
                "\n",
                "Not converted to est yet - using local course time so need to update that at some point\n",
                "*/\n",
                "SELECT\n",
                "    CONVERT(DATE, o.DateCreated) AS 'day'\n",
                "    ,datepart(hh, o.datecreated) AS 'hour'\n",
                "    ,datepart(mi, o.datecreated) AS 'minute'\n",
                "    ,count(CASE WHEN o.statusid = 1 THEN 1 ELSE NULL END) AS 'open'\n",
                "    ,count(CASE WHEN o.statusid = 2 THEN 1 ELSE NULL END) AS 'closed'\n",
                "    ,count(CASE WHEN o.statusid = 3 THEN 1 ELSE NULL END) AS 'cancelled'\n",
                "    ,count(CASE WHEN o.statusid = 4 THEN 1 ELSE NULL END) AS 'shipped'\n",
                "    ,count(CASE WHEN o.statusid = 5 THEN 1 ELSE NULL END) AS 'partially paid'\n",
                "    ,count(CASE WHEN o.statusid = 6 THEN 1 ELSE NULL END) AS 'voided'\n",
                "    ,count(CASE WHEN o.statusid = 7 THEN 1 ELSE NULL END) AS 'paid'\n",
                "    ,count(CASE WHEN o.statusid = 99 THEN 1 ELSE NULL END) AS 'abandoned'\n",
                "FROM\n",
                "    spa s WITH (nolock)\n",
                "    LEFT JOIN [order] o WITH (nolock)\n",
                "    ON o.SpaID = s.id\n",
                "    LEFT JOIN OrderStatusLU oslu WITH (nolock)\n",
                "    ON oslu.id = o.StatusID\n",
                "WHERE\n",
                "\to.datecreated > @fromdate\n",
                "    AND o.datecreated < @todate\n",
                "\tAND s.id IN (38119,38120,38121,38122,38123,38124,38125,38126,38127,38128)\n",
                "    --AND s.id = @locationid\n",
                "GROUP BY\n",
                "\tCONVERT(DATE, o.DateCreated),\n",
                "\tdatepart(hh, o.datecreated),\n",
                "\tdatepart(mi, o.datecreated)\n",
                "ORDER BY\n",
                "\tdatepart(hh, o.datecreated) asc,\n",
                "\tdatepart(mi, o.datecreated) asc"
            ],
            "metadata": {
                "azdata_cell_guid": "2bd9f795-b481-42ee-8a5d-07c3d30e4861",
                "language": "sql",
                "tags": [
                    "hide_input"
                ]
            },
            "outputs": [],
            "execution_count": null
        },
        {
            "cell_type": "markdown",
            "source": [
                "**Top 10 Orders/Min within timeframe**"
            ],
            "metadata": {
                "azdata_cell_guid": "0b86ed01-9ec6-455a-8a36-db625746dc71"
            },
            "attachments": {}
        },
        {
            "cell_type": "code",
            "source": [
                "USE GolfNowOne\n",
                "GO\n",
                "\n",
                "DECLARE @fromdate AS SMALLDATETIME = '07-22-2023 00:00:00';\n",
                "DECLARE @todate AS SMALLDATETIME = '07-22-2023 23:59:00';\n",
                "\n",
                "/*\n",
                "Count orders by minute created\n",
                "\n",
                "Not converted to est yet - using local course time so need to update that at some point\n",
                "*/\n",
                "SELECT TOP 10\n",
                "    CONVERT(DATE, o.DateCreated) AS 'day'\n",
                "    ,datepart(hh, o.datecreated) AS 'hour'\n",
                "    ,datepart(mi, o.datecreated) AS 'minute'\n",
                "    ,count(CASE WHEN o.statusid = 1 THEN 1 ELSE NULL END) AS 'open'\n",
                "    ,count(CASE WHEN o.statusid = 2 THEN 1 ELSE NULL END) AS 'closed'\n",
                "    ,count(CASE WHEN o.statusid = 3 THEN 1 ELSE NULL END) AS 'cancelled'\n",
                "    ,count(CASE WHEN o.statusid = 4 THEN 1 ELSE NULL END) AS 'shipped'\n",
                "    ,count(CASE WHEN o.statusid = 5 THEN 1 ELSE NULL END) AS 'partially paid'\n",
                "    ,count(CASE WHEN o.statusid = 6 THEN 1 ELSE NULL END) AS 'voided'\n",
                "    ,count(CASE WHEN o.statusid = 7 THEN 1 ELSE NULL END) AS 'paid'\n",
                "    ,count(CASE WHEN o.statusid = 99 THEN 1 ELSE NULL END) AS 'abandoned'\n",
                "FROM\n",
                "    spa s WITH (nolock)\n",
                "    LEFT JOIN [order] o WITH (nolock)\n",
                "    ON o.SpaID = s.id\n",
                "    LEFT JOIN OrderStatusLU oslu WITH (nolock)\n",
                "    ON oslu.id = o.StatusID\n",
                "WHERE\n",
                "\to.datecreated > @fromdate\n",
                "    AND o.datecreated < @todate\n",
                "GROUP BY\n",
                "\tCONVERT(DATE, o.DateCreated),\n",
                "\tdatepart(hh, o.datecreated),\n",
                "\tdatepart(mi, o.datecreated)\n",
                "ORDER BY\n",
                "\tcount(CASE WHEN o.statusid = 2 THEN 1 ELSE NULL END) desc"
            ],
            "metadata": {
                "azdata_cell_guid": "0cb40564-64aa-4c3e-acc6-d719ec4201a8",
                "language": "sql",
                "tags": [
                    "hide_input"
                ]
            },
            "outputs": [],
            "execution_count": null
        },
        {
            "cell_type": "markdown",
            "source": [
                "**Orders/Day**"
            ],
            "metadata": {
                "azdata_cell_guid": "a71d666d-e617-4689-87cd-c303d3aa1aa5"
            },
            "attachments": {}
        },
        {
            "cell_type": "code",
            "source": [
                "USE GolfNowOne\n",
                "GO\n",
                "\n",
                "/* Total Sales and closed orders by 2 hour timeslot per day\n",
                "\n",
                "CONVERTED TO EASTERN - Note that you'll have some orders that occurred late on west coast that roll into the next morning EST\n",
                "\n",
                "Note that spas that are NOW terminated (or other status) but used to be live are not included. Need to figure out including legit ones but there is a lot of junk in there (in the terminated list, that is) and needs a cleanup before being included\n",
                "*/\n",
                "SELECT\n",
                "    TOP 100\n",
                "    DATEPART(yyyy, outc.datecompletedest) 'year'\n",
                "    ,DATEPART(mm, outc.datecompletedest) 'month'\n",
                "    ,datepart(dd, outc.datecompletedest) 'day'\n",
                "    ,DATENAME(dw, outc.datecompletedest)'dayOfWeek'\n",
                "    ,count(CASE WHEN (datepart(hour, outc.datecompletedest) / 2) = 0 AND outc.SourceID = 4 THEN 1 ELSE NULL END) AS '0-2am EST Desktop'\n",
                "    ,count(CASE WHEN (datepart(hour, outc.datecompletedest) / 2) = 0 AND outc.SourceID = 5 THEN 1 ELSE NULL END) AS '0-2am EST Tablet'\n",
                "    --,count(CASE WHEN (datepart(hour, outc.datecompletedest) / 2) = 0 AND outc.SourceID = 6 THEN 1 ELSE NULL END) AS '0-2am EST SmartPlay'\n",
                "    ,count(CASE WHEN (datepart(hour, outc.datecompletedest) / 2) = 0 AND outc.SourceID = 8 THEN 1 ELSE NULL END) AS '0-2am EST GN Prepaid'\n",
                "    --,count(CASE WHEN (datepart(hour, outc.datecompletedest) / 2) = 0 AND outc.SourceID = 9 THEN 1 ELSE NULL END) AS '0-2am EST GN Featured'\n",
                "    ,count(CASE WHEN (datepart(hour, outc.datecompletedest) / 2) = 1 AND outc.SourceID = 4  THEN 1 ELSE NULL END) AS '2-4 EST Desktop'\n",
                "    ,count(CASE WHEN (datepart(hour, outc.datecompletedest) / 2) = 1 AND outc.SourceID = 5  THEN 1 ELSE NULL END) AS '2-4 EST Tablet'\n",
                "    --,count(CASE WHEN (datepart(hour, outc.datecompletedest) / 2) = 1 AND outc.SourceID = 6 THEN 1 ELSE NULL END) AS '2-4 EST SmartPlay'\n",
                "    ,count(CASE WHEN (datepart(hour, outc.datecompletedest) / 2) = 1 AND outc.SourceID = 8 THEN 1 ELSE NULL END) AS '2-4 EST GN Prepaid'\n",
                "    --,count(CASE WHEN (datepart(hour, outc.datecompletedest) / 2) = 1 AND outc.SourceID = 9 THEN 1 ELSE NULL END) AS '2-4 EST GN Featured'     \n",
                "    ,count(CASE WHEN (datepart(hour, outc.datecompletedest) / 2) = 2 AND outc.SourceID = 4  THEN 1 ELSE NULL END) AS '4-6 EST Desktop'\n",
                "    ,count(CASE WHEN (datepart(hour, outc.datecompletedest) / 2) = 2 AND outc.SourceID = 5  THEN 1 ELSE NULL END) AS '4-6 EST Tablet'\n",
                "    --,count(CASE WHEN (datepart(hour, outc.datecompletedest) / 2) = 2 AND outc.SourceID = 6 THEN 1 ELSE NULL END) AS '4-6 EST SmartPlay'\n",
                "    ,count(CASE WHEN (datepart(hour, outc.datecompletedest) / 2) = 2 AND outc.SourceID = 8 THEN 1 ELSE NULL END) AS '4-6 EST GN Prepaid'\n",
                "    --,count(CASE WHEN (datepart(hour, outc.datecompletedest) / 2) = 2 AND outc.SourceID = 9 THEN 1 ELSE NULL END) AS '4-6 EST GN Featured' \n",
                "    ,count(CASE WHEN (datepart(hour, outc.datecompletedest) / 2) = 3 AND outc.SourceID = 4  THEN 1 ELSE NULL END) AS '6-8 EST Desktop'\n",
                "    ,count(CASE WHEN (datepart(hour, outc.datecompletedest) / 2) = 3 AND outc.SourceID = 5  THEN 1 ELSE NULL END) AS '6-8 EST Tablet'\n",
                "    --,count(CASE WHEN (datepart(hour, outc.datecompletedest) / 2) = 3 AND outc.SourceID = 6 THEN 1 ELSE NULL END) AS '6-8 EST SmartPlay'\n",
                "    ,count(CASE WHEN (datepart(hour, outc.datecompletedest) / 2) = 3 AND outc.SourceID = 8 THEN 1 ELSE NULL END) AS '6-8 EST GN Prepaid'\n",
                "    --,count(CASE WHEN (datepart(hour, outc.datecompletedest) / 2) = 3 AND outc.SourceID = 9 THEN 1 ELSE NULL END) AS '6-8 EST GN Featured' \n",
                "    ,count(CASE WHEN (datepart(hour, outc.datecompletedest) / 2) = 4 AND outc.SourceID = 4  THEN 1 ELSE NULL END) AS '8-10 EST Desktop'\n",
                "    ,count(CASE WHEN (datepart(hour, outc.datecompletedest) / 2) = 4 AND outc.SourceID = 5  THEN 1 ELSE NULL END) AS '8-10 EST Tablet'\n",
                "    --,count(CASE WHEN (datepart(hour, outc.datecompletedest) / 2) = 4 AND outc.SourceID = 6 THEN 1 ELSE NULL END) AS '8-10 EST SmartPlay'\n",
                "    ,count(CASE WHEN (datepart(hour, outc.datecompletedest) / 2) = 4 AND outc.SourceID = 8 THEN 1 ELSE NULL END) AS '8-10 EST GN Prepaid'\n",
                "    --,count(CASE WHEN (datepart(hour, outc.datecompletedest) / 2) = 4 AND outc.SourceID = 9 THEN 1 ELSE NULL END) AS '8-10 EST GN Featured' \n",
                "    ,count(CASE WHEN (datepart(hour, outc.datecompletedest) / 2) = 5 AND outc.SourceID = 4  THEN 1 ELSE NULL END) AS '10-noon EST Desktop'\n",
                "    ,count(CASE WHEN (datepart(hour, outc.datecompletedest) / 2) = 5 AND outc.SourceID = 5  THEN 1 ELSE NULL END) AS '10-noon EST Tablet'\n",
                "    --,count(CASE WHEN (datepart(hour, outc.datecompletedest) / 2) = 5 AND outc.SourceID = 6 THEN 1 ELSE NULL END) AS '10-noon EST SmartPlay'\n",
                "    ,count(CASE WHEN (datepart(hour, outc.datecompletedest) / 2) = 5 AND outc.SourceID = 8 THEN 1 ELSE NULL END) AS '10-noon EST GN Prepaid'\n",
                "    --,count(CASE WHEN (datepart(hour, outc.datecompletedest) / 2) = 5 AND outc.SourceID = 9 THEN 1 ELSE NULL END) AS '10-noon EST GN Featured' \n",
                "    ,count(CASE WHEN (datepart(hour, outc.datecompletedest) / 2) = 6 AND outc.SourceID = 4  THEN 1 ELSE NULL END) AS 'noon-2 EST Desktop'\n",
                "    ,count(CASE WHEN (datepart(hour, outc.datecompletedest) / 2) = 6 AND outc.SourceID = 5  THEN 1 ELSE NULL END) AS 'noon-2 EST Tablet'\n",
                "    --,count(CASE WHEN (datepart(hour, outc.datecompletedest) / 2) = 6 AND outc.SourceID = 6 THEN 1 ELSE NULL END) AS 'noon-2 EST SmartPlay'\n",
                "    ,count(CASE WHEN (datepart(hour, outc.datecompletedest) / 2) = 6 AND outc.SourceID = 8 THEN 1 ELSE NULL END) AS 'noon-2 EST GN Prepaid'\n",
                "    --,count(CASE WHEN (datepart(hour, outc.datecompletedest) / 2) = 6 AND outc.SourceID = 9 THEN 1 ELSE NULL END) AS 'noon-2 EST GN Featured' \n",
                "    ,count(CASE WHEN (datepart(hour, outc.datecompletedest) / 2) = 7 AND outc.SourceID = 4  THEN 1 ELSE NULL END) AS '2-4 EST Desktop'\n",
                "    ,count(CASE WHEN (datepart(hour, outc.datecompletedest) / 2) = 7 AND outc.SourceID = 5  THEN 1 ELSE NULL END) AS '2-4 EST Tablet'\n",
                "    --,count(CASE WHEN (datepart(hour, outc.datecompletedest) / 2) = 7 AND outc.SourceID = 6 THEN 1 ELSE NULL END) AS '2-4 EST SmartPlay'\n",
                "    ,count(CASE WHEN (datepart(hour, outc.datecompletedest) / 2) = 7 AND outc.SourceID = 8 THEN 1 ELSE NULL END) AS '2-4 EST GN Prepaid'\n",
                "    --,count(CASE WHEN (datepart(hour, outc.datecompletedest) / 2) = 7 AND outc.SourceID = 9 THEN 1 ELSE NULL END) AS '2-4 EST GN Featured' \n",
                "    ,count(CASE WHEN (datepart(hour, outc.datecompletedest) / 2) = 8 AND outc.SourceID = 4  THEN 1 ELSE NULL END) AS '4-6 EST Desktop'\n",
                "    ,count(CASE WHEN (datepart(hour, outc.datecompletedest) / 2) = 8 AND outc.SourceID = 5  THEN 1 ELSE NULL END) AS '4-6 EST Tablet'\n",
                "    --,count(CASE WHEN (datepart(hour, outc.datecompletedest) / 2) = 8 AND outc.SourceID = 6 THEN 1 ELSE NULL END) AS '4-6 EST SmartPlay'\n",
                "    ,count(CASE WHEN (datepart(hour, outc.datecompletedest) / 2) = 8 AND outc.SourceID = 8 THEN 1 ELSE NULL END) AS '4-6 EST GN Prepaid'\n",
                "    --,count(CASE WHEN (datepart(hour, outc.datecompletedest) / 2) = 8 AND outc.SourceID = 9 THEN 1 ELSE NULL END) AS '4-6 EST GN Featured' \n",
                "    ,count(CASE WHEN (datepart(hour, outc.datecompletedest) / 2) = 9 AND outc.SourceID = 4  THEN 1 ELSE NULL END) AS '6-8 EST Desktop'\n",
                "    ,count(CASE WHEN (datepart(hour, outc.datecompletedest) / 2) = 9 AND outc.SourceID = 5  THEN 1 ELSE NULL END) AS '6-8 EST Tablet'\n",
                "    --,count(CASE WHEN (datepart(hour, outc.datecompletedest) / 2) = 9 AND outc.SourceID = 6 THEN 1 ELSE NULL END) AS '6-8 EST SmartPlay'\n",
                "    ,count(CASE WHEN (datepart(hour, outc.datecompletedest) / 2) = 9 AND outc.SourceID = 8 THEN 1 ELSE NULL END) AS '6-8 EST GN Prepaid'\n",
                "    --,count(CASE WHEN (datepart(hour, outc.datecompletedest) / 2) = 9 AND outc.SourceID = 9 THEN 1 ELSE NULL END) AS '6-8 EST GN Featured' \n",
                "    ,count(CASE WHEN (datepart(hour, outc.datecompletedest) / 2) = 10 AND outc.SourceID = 4  THEN 1 ELSE NULL END) AS '8-10 EST Desktop'\n",
                "    ,count(CASE WHEN (datepart(hour, outc.datecompletedest) / 2) = 10 AND outc.SourceID = 5  THEN 1 ELSE NULL END) AS '8-10 EST Tablet'\n",
                "    --,count(CASE WHEN (datepart(hour, outc.datecompletedest) / 2) = 10 AND outc.SourceID = 6 THEN 1 ELSE NULL END) AS '8-10 EST SmartPlay'\n",
                "    ,count(CASE WHEN (datepart(hour, outc.datecompletedest) / 2) = 10 AND outc.SourceID = 8 THEN 1 ELSE NULL END) AS '8-10 EST GN Prepaid'\n",
                "    --,count(CASE WHEN (datepart(hour, outc.datecompletedest) / 2) = 10 AND outc.SourceID = 9 THEN 1 ELSE NULL END) AS '8-10 EST GN Featured' \n",
                "    ,count(CASE WHEN (datepart(hour, outc.datecompletedest) / 2) = 11 AND outc.SourceID = 4  THEN 1 ELSE NULL END) AS '10-midnight EST Desktop'\n",
                "    ,count(CASE WHEN (datepart(hour, outc.datecompletedest) / 2) = 11 AND outc.SourceID = 5  THEN 1 ELSE NULL END) AS '10-midnight EST Tablet'\n",
                "    --,count(CASE WHEN (datepart(hour, outc.datecompletedest) / 2) = 11 AND outc.SourceID = 6 THEN 1 ELSE NULL END) AS '10-midnight EST SmartPlay'\n",
                "    ,count(CASE WHEN (datepart(hour, outc.datecompletedest) / 2) = 11 AND outc.SourceID = 8 THEN 1 ELSE NULL END) AS '10-midnight EST GN Prepaid'\n",
                "    --,count(CASE WHEN (datepart(hour, outc.datecompletedest) / 2) = 11 AND outc.SourceID = 9 THEN 1 ELSE NULL END) AS '10-midnight EST GN Featured'     \n",
                "    ,count(outc.datecompletedest) 'totalOrderCount EST'\n",
                "----sum(o.finaltotal) Amount /*Order $$$ Amount*/\n",
                "\n",
                "--(count(case when (datepart(hour, outc.datecompletedest) / 2) = 0 then 1 else null end))/24 '0-2am EST per 5 min',\n",
                "--(count(case when (datepart(hour, outc.datecompletedest) / 2) = 1 then 1 else null end))/24 '2-4 EST per 5 min',\n",
                "--(count(case when (datepart(hour, outc.datecompletedest) / 2) = 2 then 1 else null end))/24 '4-6 EST per 5 min',\n",
                "--(count(case when (datepart(hour, outc.datecompletedest) / 2) = 3 then 1 else null end))/24 '6-8 EST per 5 min',\n",
                "--(count(case when (datepart(hour, outc.datecompletedest) / 2) = 4 then 1 else null end))/24 '8-10 EST per 5 min',\n",
                "--(count(case when (datepart(hour, outc.datecompletedest) / 2) = 5 then 1 else null end))/24 '10-noon EST per 5 min',\n",
                "--(count(case when (datepart(hour, outc.datecompletedest) / 2) = 6 then 1 else null end))/24 'noon-2 EST per 5 min',\n",
                "--(count(case when (datepart(hour, outc.datecompletedest) / 2) = 7 then 1 else null end))/24 '2-4 EST per 5 min',\n",
                "--(count(case when (datepart(hour, outc.datecompletedest) / 2) = 8 then 1 else null end))/24 '4-6 ESTper 5 min',\n",
                "--(count(case when (datepart(hour, outc.datecompletedest) / 2) = 9 then 1 else null end))/24 '6-8 EST per 5 min',\n",
                "--(count(case when (datepart(hour, outc.datecompletedest) / 2) = 10 then 1 else null end))/24 '8-10 EST per 5 min',\n",
                "--(count(case when (datepart(hour, outc.datecompletedest) / 2) = 11 then 1 else null end))/24 '10-midnight EST per 5 min',\n",
                "--(count(outc.datecompletedest))/288 'fullDay per 5 min'\n",
                "FROM\n",
                "    spa s WITH (nolock)\n",
                "    LEFT JOIN brand b WITH (nolock)\n",
                "    ON b.id = s.BrandID\n",
                "    --left join [Order] o with (nolock)\n",
                "    --    on o.SpaID = s.id\n",
                "    LEFT JOIN (SELECT\n",
                "        o.id\n",
                "        ,o.spaid\n",
                "        ,o.statusid\n",
                "        ,o.IsDeleted\n",
                "        ,o.SourceID\n",
                "        ,dateadd(mi, datediff(mi, getutcdate(), getdate()), o.datecompletedutc) datecompletedEST\n",
                "    FROM\n",
                "        [order] o WITH (nolock)) oUTC\n",
                "    ON outc.SpaID = s.id\n",
                "WHERE\n",
                "      s.StatusID = 4 /*Live Locations only*/\n",
                "    AND s.IsTestAccount = 0 /*Exclude Internal Test Accounts*/\n",
                "    AND s.IsDeleted = 0 /*Exclude Deleted Locations*/\n",
                "    AND outc.StatusID = 2 /*Include only closed orders*/\n",
                "    AND outc.IsDeleted = 0 /*Exclude deleted orders*/\n",
                "    AND outc.datecompletedEST > '01-01-2023 00:00:00'\n",
                "GROUP BY\n",
                "     DATEPART(yyyy, outc.datecompletedest),\n",
                "     DATEPART(mm, outc.datecompletedest),\n",
                "datepart(dd,outc.datecompletedest),\n",
                "\t--(datepart(hour, o.DateCompleted) / 6),\n",
                "DATENAME(dw, outc.datecompletedest)\n",
                "ORDER BY\n",
                "   year DESC,\n",
                "   month DESC,\n",
                "   day DESC\n",
                "   --'totalordercount est'"
            ],
            "metadata": {
                "azdata_cell_guid": "73b558f7-0b38-414e-ae5f-fb0007e30015",
                "language": "sql",
                "tags": [
                    "hide_input"
                ]
            },
            "outputs": [],
            "execution_count": null
        },
        {
            "cell_type": "markdown",
            "source": [
                "**ePOS Usage Ratio**"
            ],
            "metadata": {
                "azdata_cell_guid": "3a3cb722-abb9-420d-b887-bdd855342fbf"
            },
            "attachments": {}
        },
        {
            "cell_type": "code",
            "source": [
                "USE GolfNowOne\n",
                "GO\n",
                "\n",
                "SELECT\n",
                "    (COUNT(CASE WHEN fs.EnableNewPOS = 1 THEN 1 END) / CAST(COUNT(*) AS decimal(10,2))) AS RatioOfEnableNewPOS\n",
                "FROM [GolfNowOne].[dbo].[Spa] S WITH(NOLOCK)\n",
                "INNER JOIN [GolfNowOne].[dbo].[SpaSettings] SS WITH(NOLOCK) ON SS.ID = S.SettingsID\n",
                "INNER JOIN [GolfNowOne].[dbo].[FeatureSettings] FS WITH(NOLOCK) ON FS.ID = SS.FeatureSettingsID\n",
                "WHERE s.[IsDeleted] = 0 AND s.BusinessTypeID = 45 AND s.StatusID = 4;\n",
                ""
            ],
            "metadata": {
                "azdata_cell_guid": "569f239b-07ec-4986-a166-417af77d8241",
                "language": "sql",
                "tags": [
                    "hide_input"
                ]
            },
            "outputs": [],
            "execution_count": null
        },
        {
            "cell_type": "markdown",
            "source": [
                "**Orders/Location**"
            ],
            "metadata": {
                "azdata_cell_guid": "19015936-dfe1-4917-aef5-70d5e32023d0"
            },
            "attachments": {}
        },
        {
            "cell_type": "code",
            "source": [
                "USE GolfNowOne\n",
                "GO\n",
                "\n",
                "/* Total Sales and closed orders by 2 hour timeslot per day\n",
                "\n",
                "CONVERTED TO EASTERN - Note that you'll have some orders that occurred late on west coast that roll into the next morning EST\n",
                "\n",
                "Note that spas that are NOW terminated (or other status) but used to be live are not included. Need to figure out including legit ones but there is a lot of junk in there (in the terminated list, that is) and needs a cleanup before being included\n",
                "*/\n",
                "SELECT\n",
                "    TOP 100\n",
                "    s.AccountName\n",
                "    ,s.Name\n",
                "    ,count(1) as [Orders Completed between 10am-11am EST]\n",
                "\n",
                "FROM\n",
                "    spa s WITH (nolock)\n",
                "    LEFT JOIN brand b WITH (nolock)\n",
                "    ON b.id = s.BrandID\n",
                "    --left join [Order] o with (nolock)\n",
                "    --    on o.SpaID = s.id\n",
                "    LEFT JOIN (SELECT\n",
                "        o.id\n",
                "        ,o.spaid\n",
                "        ,o.statusid\n",
                "        ,o.IsDeleted\n",
                "        ,o.SourceID\n",
                "        ,dateadd(mi, datediff(mi, getutcdate(), getdate()), o.datecompletedutc) datecompletedEST\n",
                "    FROM\n",
                "        [order] o WITH (nolock)) oUTC\n",
                "    ON outc.SpaID = s.id\n",
                "WHERE\n",
                "      s.StatusID = 4 /*Live Locations only*/\n",
                "    AND s.IsTestAccount = 0 /*Exclude Internal Test Accounts*/\n",
                "    AND s.IsDeleted = 0 /*Exclude Deleted Locations*/\n",
                "    AND outc.StatusID = 2 /*Include only closed orders*/\n",
                "    AND outc.IsDeleted = 0 /*Exclude deleted orders*/\n",
                "    AND outc.datecompletedEST > '12-01-2023 10:00:00'\n",
                "    AND outc.datecompletedEST < '01-17-2024 11:00:00'\n",
                "GROUP BY\n",
                "     s.AccountName\n",
                "     ,s.Name\n",
                "ORDER BY\n",
                "   count(1) DESC"
            ],
            "metadata": {
                "azdata_cell_guid": "2734a42c-19ee-4036-a8e3-568460aac842",
                "language": "sql",
                "tags": [
                    "hide_input"
                ]
            },
            "outputs": [],
            "execution_count": 1
        },
        {
            "cell_type": "markdown",
            "source": [
                "**Reports By Location**"
            ],
            "metadata": {
                "azdata_cell_guid": "6a39d75b-dd64-417c-8dc0-bcb90d0405dc"
            },
            "attachments": {}
        },
        {
            "cell_type": "code",
            "source": [
                "USE GolfNowOne\n",
                "GO\n",
                "\n",
                "DECLARE @ReportID INT = 11524; --transaction rpt ID\n",
                "DECLARE @ViewerTypeID INT = 2; --viewer type id for Spa/Location\n",
                "\n",
                "SELECT\n",
                "    S.[AccountName]\n",
                "    ,R.[Name]\n",
                "  FROM [GolfNowOne].[dbo].[Report] R WITH (NOLOCK)\n",
                "  INNER JOIN [GolfNowOne].[dbo].[ReportViewerReport] RVR WITH (NOLOCK) ON RVR.ReportID = R.[ID]\n",
                "  INNER JOIN [GolfNowOne].[dbo].[Spa] S WITH (NOLOCK) ON RVR.ViewerID = S.ID\n",
                "  WHERE R.[ID] = @ReportID AND RVR.ViewerTypeID = @ViewerTypeID\n",
                "  GROUP BY RVR.[ViewerID], R.[Name], S.AccountName\n",
                ""
            ],
            "metadata": {
                "azdata_cell_guid": "aeb319ea-8395-4314-8161-4a754b429c04",
                "language": "sql",
                "tags": [
                    "hide_input"
                ]
            },
            "outputs": [],
            "execution_count": null
        },
        {
            "cell_type": "markdown",
            "source": [
                "**Bluetooth Transaction Count per Location**"
            ],
            "metadata": {
                "azdata_cell_guid": "86e8ac1c-c2a9-4a5c-8e97-9d620ebcc5ae"
            },
            "attachments": {}
        },
        {
            "cell_type": "code",
            "source": [
                "USE GOLFNOWONE;\n",
                "\n",
                "SELECT \n",
                "    S.[AccountName]\n",
                "    ,COUNT(*) as 'Bluetooth Transactions'\n",
                "FROM\n",
                "    CreditCardTransaction CCT (NOLOCK)\n",
                "    JOIN [Order] O (NOLOCK) ON CCT.OrderId = O.Id\n",
                "    JOIN PaymentItem (NOLOCK) PIT ON PIT.ID = CCT.PaymentItemId\n",
                "    JOIN dbo.[Spa] S (NOLOCK) ON S.ID = O.SpaId\n",
                "    JOIN dbo.[CashRegister] t (NOLOCK) ON t.ID = O.CashRegisterId\n",
                "    JOIN [dbo].[Areas] AS [a] (NOLOCK) ON [t].[AreaID] = [a].[ID]\n",
                "    JOIN [dbo].[AreaSettings] AS [a0] (NOLOCK) ON [a].[SettingsID] = [a0].[ID]\n",
                "    JOIN [dbo].[AreaPaymentSettings] AS [a1] (NOLOCK) ON [a0].[PaymentSettingsID] = [a1].[ID]\n",
                "    LEFT JOIN CreditCardTransactionLog (NOLOCK) Lg ON Lg.CreditCardTransactionId = cct.ID\n",
                "    LEFT JOIN [dbo].[GolfNowProcessorAccount] AS [g] (NOLOCK) ON [a1].[GNSwipeManualAccountId] = [g].[ID]\n",
                "    LEFT JOIN [dbo].[GolfNowProcessorAccount] AS [g1] (NOLOCK) ON [a1].[GNPinPadAccountId] = [g].[ID]\n",
                "    LEFT JOIN [dbo].[PinPadCache] AS [p] (NOLOCK) ON [t].[DefaultPinPadID] = [p].[ID]\n",
                "    LEFT JOIN CreditCard (NOLOCK) CC ON CC.ID = PIT.CreditCardID\n",
                "    LEFT JOIN CreditCardTransactionTypeLU (NOLOCK) TT ON CCT.TypeID = TT.ID\n",
                "    LEFT JOIN EMVTransactionReceipt (NOLOCK) Recp ON Recp.ID = CCT.EMVTransactionReceiptID\n",
                "    LEFT JOIN GolfNowProcessorTypeLU (NOLOCK) GNPT ON GNPT.ID = Recp.ProcessorType\n",
                "WHERE \n",
                "     PIT.[IsBluetooth] = 1\n",
                "GROUP BY S.[AccountName]\n",
                ""
            ],
            "metadata": {
                "azdata_cell_guid": "6ec04363-0462-4250-aaf4-a65b2304b603",
                "language": "sql",
                "tags": [
                    "hide_input"
                ]
            },
            "outputs": [],
            "execution_count": null
        },
        {
            "cell_type": "markdown",
            "source": [
                "**Bluetooth Transactions for location**"
            ],
            "metadata": {
                "language": "sql",
                "azdata_cell_guid": "6ef07bc0-e412-4dc6-a387-3040e3707211"
            },
            "attachments": {}
        },
        {
            "cell_type": "code",
            "source": [
                "USE GOLFNOWONE;\n",
                "\n",
                "SELECT\n",
                "    TOP 50\n",
                "    O.[ID]\n",
                "    ,O.[DatePaidUTC]\n",
                "    ,TT.[Name]\n",
                "    ,GNPT.[Name] AS ProcessorType\n",
                "    ,S.[accountname]\n",
                "    ,a.[Name]\n",
                "    ,t.[Name]\n",
                "FROM\n",
                "    CreditCardTransaction CCT (NOLOCK)\n",
                "    JOIN [Order] O (NOLOCK) ON CCT.OrderId = O.Id\n",
                "    JOIN PaymentItem (NOLOCK) PIT ON PIT.ID = CCT.PaymentItemId\n",
                "    JOIN dbo.[Spa] S (NOLOCK) ON S.ID = O.SpaId\n",
                "    JOIN dbo.[CashRegister] t (NOLOCK) ON t.ID = O.CashRegisterId\n",
                "    JOIN [dbo].[Areas] AS [a] (NOLOCK) ON [t].[AreaID] = [a].[ID]\n",
                "    JOIN [dbo].[AreaSettings] AS [a0] (NOLOCK) ON [a].[SettingsID] = [a0].[ID]\n",
                "    JOIN [dbo].[AreaPaymentSettings] AS [a1] (NOLOCK) ON [a0].[PaymentSettingsID] = [a1].[ID]\n",
                "    LEFT JOIN CreditCardTransactionLog (NOLOCK) Lg ON Lg.CreditCardTransactionId = cct.ID\n",
                "    LEFT JOIN [dbo].[GolfNowProcessorAccount] AS [g] (NOLOCK) ON [a1].[GNSwipeManualAccountId] = [g].[ID]\n",
                "    LEFT JOIN [dbo].[GolfNowProcessorAccount] AS [g1] (NOLOCK) ON [a1].[GNPinPadAccountId] = [g].[ID]\n",
                "    LEFT JOIN [dbo].[PinPadCache] AS [p] (NOLOCK) ON [t].[DefaultPinPadID] = [p].[ID]\n",
                "    LEFT JOIN CreditCard (NOLOCK) CC ON CC.ID = PIT.CreditCardID\n",
                "    LEFT JOIN CreditCardTransactionTypeLU (NOLOCK) TT ON CCT.TypeID = TT.ID\n",
                "    LEFT JOIN EMVTransactionReceipt (NOLOCK) Recp ON Recp.ID = CCT.EMVTransactionReceiptID\n",
                "    LEFT JOIN GolfNowProcessorTypeLU (NOLOCK) GNPT ON GNPT.ID = Recp.ProcessorType\n",
                "WHERE \n",
                "S.[ID] = 36960 AND PIT.[IsBluetooth] = 1\n",
                "ORDER BY O.ID DESC, CCT.ID DESC"
            ],
            "metadata": {
                "language": "sql",
                "azdata_cell_guid": "1cb4df62-5864-4728-89fd-91585a317ad8"
            },
            "outputs": [],
            "execution_count": null
        }
    ]
}