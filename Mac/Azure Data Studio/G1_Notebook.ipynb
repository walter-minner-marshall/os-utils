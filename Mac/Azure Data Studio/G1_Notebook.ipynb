{
    "metadata": {
        "kernelspec": {
            "name": "SQL",
            "display_name": "SQL",
            "language": "sql"
        },
        "language_info": {
            "name": "sql",
            "version": ""
        }
    },
    "nbformat_minor": 2,
    "nbformat": 4,
    "cells": [
        {
            "cell_type": "markdown",
            "source": [
                "**OrderItem Select**"
            ],
            "metadata": {
                "azdata_cell_guid": "5b2eaee6-e7c7-4414-b869-898e4dc395f0"
            }
        },
        {
            "cell_type": "code",
            "source": [
                "USE GolfNowOne\n",
                "GO\n",
                "\n",
                "SELECT TOP (5) \n",
                "    S.AccountName\n",
                "    ,OI.OrderID\n",
                "    ,OI.TypeID\n",
                "    ,OI.ID\n",
                "    ,OI.ParentOrderItemID\n",
                "    ,OI.PaymentItemID\n",
                "    ,OI.Quantity\n",
                "    ,OI.DynamicPriceID\n",
                "    ,OI.BillableItemID\n",
                "FROM [dbo].[OrderItem] OI\n",
                "INNER JOIN [dbo].[Order] O ON OI.OrderID = O.ID\n",
                "INNER JOIN [dbo].[Spa] S ON O.SpaID = S.ID\n",
                "WHERE OI.TypeID = 15 ORDER BY OI.ID DESC\n",
                "\n",
                "-- 2:ProductVariant = 210947691(fl_standard9)\n",
                "-- 18:GreenFee = 210947691(fl_standard9)\n",
                "-- 3:GiftCertificate = 210944417(on_golfnorthdemoa)\n",
                "-- 8:Employee = 210947658(fl_branded9)\n",
                "-- 11:MembershipFee = 210947689(fl_standard9)\n",
                "-- 10:MembershipSignup = 210947689(fl_standard9)\n",
                "-- 13:Package = 210947688(fl_standard9)\n",
                "-- 6:Series = 210925806(uk_brand_location1)\n",
                "-- 5:ServiceAddOn = 210945590(fl_demo)\n",
                "-- 15:SpecialFreeItem = 210655235(fl_demo)"
            ],
            "metadata": {
                "azdata_cell_guid": "03369394-0805-42f1-af56-b8d2e2ba2001",
                "tags": []
            },
            "outputs": [
                {
                    "output_type": "display_data",
                    "data": {
                        "text/html": "Commands completed successfully."
                    },
                    "metadata": {}
                },
                {
                    "output_type": "display_data",
                    "data": {
                        "text/html": "(5 rows affected)"
                    },
                    "metadata": {}
                },
                {
                    "output_type": "display_data",
                    "data": {
                        "text/html": "Total execution time: 00:00:02.997"
                    },
                    "metadata": {}
                },
                {
                    "output_type": "execute_result",
                    "execution_count": 3,
                    "data": {
                        "application/vnd.dataresource+json": {
                            "schema": {
                                "fields": [
                                    {
                                        "name": "AccountName"
                                    },
                                    {
                                        "name": "OrderID"
                                    },
                                    {
                                        "name": "TypeID"
                                    },
                                    {
                                        "name": "ID"
                                    },
                                    {
                                        "name": "ParentOrderItemID"
                                    },
                                    {
                                        "name": "PaymentItemID"
                                    },
                                    {
                                        "name": "Quantity"
                                    },
                                    {
                                        "name": "DynamicPriceID"
                                    },
                                    {
                                        "name": "BillableItemID"
                                    }
                                ]
                            },
                            "data": [
                                {
                                    "0": "fl_demo",
                                    "1": "210655235",
                                    "2": "15",
                                    "3": "300527768",
                                    "4": "NULL",
                                    "5": "NULL",
                                    "6": "5",
                                    "7": "311878012",
                                    "8": "9805672"
                                },
                                {
                                    "0": "fl_demo",
                                    "1": "208625858",
                                    "2": "15",
                                    "3": "296609241",
                                    "4": "NULL",
                                    "5": "NULL",
                                    "6": "1",
                                    "7": "307959480",
                                    "8": "9805672"
                                },
                                {
                                    "0": "fl_demo",
                                    "1": "208504912",
                                    "2": "15",
                                    "3": "296399475",
                                    "4": "NULL",
                                    "5": "NULL",
                                    "6": "1",
                                    "7": "307749711",
                                    "8": "9805672"
                                },
                                {
                                    "0": "fl_demo",
                                    "1": "208504912",
                                    "2": "15",
                                    "3": "296399474",
                                    "4": "NULL",
                                    "5": "NULL",
                                    "6": "1",
                                    "7": "307749710",
                                    "8": "9805672"
                                },
                                {
                                    "0": "fl_demo",
                                    "1": "208504192",
                                    "2": "15",
                                    "3": "296399385",
                                    "4": "NULL",
                                    "5": "NULL",
                                    "6": "1",
                                    "7": "307749621",
                                    "8": "9805672"
                                }
                            ]
                        },
                        "text/html": "<table><tr><th>AccountName</th><th>OrderID</th><th>TypeID</th><th>ID</th><th>ParentOrderItemID</th><th>PaymentItemID</th><th>Quantity</th><th>DynamicPriceID</th><th>BillableItemID</th></tr><tr><td>fl_demo</td><td>210655235</td><td>15</td><td>300527768</td><td>NULL</td><td>NULL</td><td>5</td><td>311878012</td><td>9805672</td></tr><tr><td>fl_demo</td><td>208625858</td><td>15</td><td>296609241</td><td>NULL</td><td>NULL</td><td>1</td><td>307959480</td><td>9805672</td></tr><tr><td>fl_demo</td><td>208504912</td><td>15</td><td>296399475</td><td>NULL</td><td>NULL</td><td>1</td><td>307749711</td><td>9805672</td></tr><tr><td>fl_demo</td><td>208504912</td><td>15</td><td>296399474</td><td>NULL</td><td>NULL</td><td>1</td><td>307749710</td><td>9805672</td></tr><tr><td>fl_demo</td><td>208504192</td><td>15</td><td>296399385</td><td>NULL</td><td>NULL</td><td>1</td><td>307749621</td><td>9805672</td></tr></table>"
                    },
                    "metadata": {
                        "resultSet": {
                            "id": 0,
                            "batchId": 1,
                            "rowCount": 5,
                            "complete": true,
                            "columnInfo": [
                                {
                                    "isBytes": false,
                                    "isChars": true,
                                    "isSqlVariant": false,
                                    "isUdt": false,
                                    "isXml": false,
                                    "isJson": false,
                                    "sqlDbType": 22,
                                    "isHierarchyId": false,
                                    "isSqlXmlType": false,
                                    "isUnknownType": false,
                                    "isUpdatable": true,
                                    "allowDBNull": true,
                                    "baseCatalogName": null,
                                    "baseColumnName": null,
                                    "baseSchemaName": null,
                                    "baseServerName": null,
                                    "baseTableName": null,
                                    "columnName": "AccountName",
                                    "columnOrdinal": 0,
                                    "columnSize": 50,
                                    "isAliased": null,
                                    "isAutoIncrement": false,
                                    "isExpression": null,
                                    "isHidden": null,
                                    "isIdentity": false,
                                    "isKey": null,
                                    "isLong": false,
                                    "isReadOnly": false,
                                    "isUnique": false,
                                    "numericPrecision": 255,
                                    "numericScale": 255,
                                    "udtAssemblyQualifiedName": null,
                                    "dataType": "System.String, System.Private.CoreLib, Version=4.0.0.0, Culture=neutral, PublicKeyToken=7cec85d7bea7798e",
                                    "dataTypeName": "varchar"
                                },
                                {
                                    "isBytes": false,
                                    "isChars": false,
                                    "isSqlVariant": false,
                                    "isUdt": false,
                                    "isXml": false,
                                    "isJson": false,
                                    "sqlDbType": 8,
                                    "isHierarchyId": false,
                                    "isSqlXmlType": false,
                                    "isUnknownType": false,
                                    "isUpdatable": true,
                                    "allowDBNull": false,
                                    "baseCatalogName": null,
                                    "baseColumnName": null,
                                    "baseSchemaName": null,
                                    "baseServerName": null,
                                    "baseTableName": null,
                                    "columnName": "OrderID",
                                    "columnOrdinal": 1,
                                    "columnSize": 4,
                                    "isAliased": null,
                                    "isAutoIncrement": false,
                                    "isExpression": null,
                                    "isHidden": null,
                                    "isIdentity": false,
                                    "isKey": null,
                                    "isLong": false,
                                    "isReadOnly": false,
                                    "isUnique": false,
                                    "numericPrecision": 10,
                                    "numericScale": 255,
                                    "udtAssemblyQualifiedName": null,
                                    "dataType": "System.Int32, System.Private.CoreLib, Version=4.0.0.0, Culture=neutral, PublicKeyToken=7cec85d7bea7798e",
                                    "dataTypeName": "int"
                                },
                                {
                                    "isBytes": false,
                                    "isChars": false,
                                    "isSqlVariant": false,
                                    "isUdt": false,
                                    "isXml": false,
                                    "isJson": false,
                                    "sqlDbType": 8,
                                    "isHierarchyId": false,
                                    "isSqlXmlType": false,
                                    "isUnknownType": false,
                                    "isUpdatable": true,
                                    "allowDBNull": true,
                                    "baseCatalogName": null,
                                    "baseColumnName": null,
                                    "baseSchemaName": null,
                                    "baseServerName": null,
                                    "baseTableName": null,
                                    "columnName": "TypeID",
                                    "columnOrdinal": 2,
                                    "columnSize": 4,
                                    "isAliased": null,
                                    "isAutoIncrement": false,
                                    "isExpression": null,
                                    "isHidden": null,
                                    "isIdentity": false,
                                    "isKey": null,
                                    "isLong": false,
                                    "isReadOnly": false,
                                    "isUnique": false,
                                    "numericPrecision": 10,
                                    "numericScale": 255,
                                    "udtAssemblyQualifiedName": null,
                                    "dataType": "System.Int32, System.Private.CoreLib, Version=4.0.0.0, Culture=neutral, PublicKeyToken=7cec85d7bea7798e",
                                    "dataTypeName": "int"
                                },
                                {
                                    "isBytes": false,
                                    "isChars": false,
                                    "isSqlVariant": false,
                                    "isUdt": false,
                                    "isXml": false,
                                    "isJson": false,
                                    "sqlDbType": 8,
                                    "isHierarchyId": false,
                                    "isSqlXmlType": false,
                                    "isUnknownType": false,
                                    "isUpdatable": false,
                                    "allowDBNull": false,
                                    "baseCatalogName": null,
                                    "baseColumnName": null,
                                    "baseSchemaName": null,
                                    "baseServerName": null,
                                    "baseTableName": null,
                                    "columnName": "ID",
                                    "columnOrdinal": 3,
                                    "columnSize": 4,
                                    "isAliased": null,
                                    "isAutoIncrement": true,
                                    "isExpression": null,
                                    "isHidden": null,
                                    "isIdentity": true,
                                    "isKey": null,
                                    "isLong": false,
                                    "isReadOnly": true,
                                    "isUnique": false,
                                    "numericPrecision": 10,
                                    "numericScale": 255,
                                    "udtAssemblyQualifiedName": null,
                                    "dataType": "System.Int32, System.Private.CoreLib, Version=4.0.0.0, Culture=neutral, PublicKeyToken=7cec85d7bea7798e",
                                    "dataTypeName": "int"
                                },
                                {
                                    "isBytes": false,
                                    "isChars": false,
                                    "isSqlVariant": false,
                                    "isUdt": false,
                                    "isXml": false,
                                    "isJson": false,
                                    "sqlDbType": 8,
                                    "isHierarchyId": false,
                                    "isSqlXmlType": false,
                                    "isUnknownType": false,
                                    "isUpdatable": true,
                                    "allowDBNull": true,
                                    "baseCatalogName": null,
                                    "baseColumnName": null,
                                    "baseSchemaName": null,
                                    "baseServerName": null,
                                    "baseTableName": null,
                                    "columnName": "ParentOrderItemID",
                                    "columnOrdinal": 4,
                                    "columnSize": 4,
                                    "isAliased": null,
                                    "isAutoIncrement": false,
                                    "isExpression": null,
                                    "isHidden": null,
                                    "isIdentity": false,
                                    "isKey": null,
                                    "isLong": false,
                                    "isReadOnly": false,
                                    "isUnique": false,
                                    "numericPrecision": 10,
                                    "numericScale": 255,
                                    "udtAssemblyQualifiedName": null,
                                    "dataType": "System.Int32, System.Private.CoreLib, Version=4.0.0.0, Culture=neutral, PublicKeyToken=7cec85d7bea7798e",
                                    "dataTypeName": "int"
                                },
                                {
                                    "isBytes": false,
                                    "isChars": false,
                                    "isSqlVariant": false,
                                    "isUdt": false,
                                    "isXml": false,
                                    "isJson": false,
                                    "sqlDbType": 8,
                                    "isHierarchyId": false,
                                    "isSqlXmlType": false,
                                    "isUnknownType": false,
                                    "isUpdatable": true,
                                    "allowDBNull": true,
                                    "baseCatalogName": null,
                                    "baseColumnName": null,
                                    "baseSchemaName": null,
                                    "baseServerName": null,
                                    "baseTableName": null,
                                    "columnName": "PaymentItemID",
                                    "columnOrdinal": 5,
                                    "columnSize": 4,
                                    "isAliased": null,
                                    "isAutoIncrement": false,
                                    "isExpression": null,
                                    "isHidden": null,
                                    "isIdentity": false,
                                    "isKey": null,
                                    "isLong": false,
                                    "isReadOnly": false,
                                    "isUnique": false,
                                    "numericPrecision": 10,
                                    "numericScale": 255,
                                    "udtAssemblyQualifiedName": null,
                                    "dataType": "System.Int32, System.Private.CoreLib, Version=4.0.0.0, Culture=neutral, PublicKeyToken=7cec85d7bea7798e",
                                    "dataTypeName": "int"
                                },
                                {
                                    "isBytes": false,
                                    "isChars": false,
                                    "isSqlVariant": false,
                                    "isUdt": false,
                                    "isXml": false,
                                    "isJson": false,
                                    "sqlDbType": 8,
                                    "isHierarchyId": false,
                                    "isSqlXmlType": false,
                                    "isUnknownType": false,
                                    "isUpdatable": true,
                                    "allowDBNull": true,
                                    "baseCatalogName": null,
                                    "baseColumnName": null,
                                    "baseSchemaName": null,
                                    "baseServerName": null,
                                    "baseTableName": null,
                                    "columnName": "Quantity",
                                    "columnOrdinal": 6,
                                    "columnSize": 4,
                                    "isAliased": null,
                                    "isAutoIncrement": false,
                                    "isExpression": null,
                                    "isHidden": null,
                                    "isIdentity": false,
                                    "isKey": null,
                                    "isLong": false,
                                    "isReadOnly": false,
                                    "isUnique": false,
                                    "numericPrecision": 10,
                                    "numericScale": 255,
                                    "udtAssemblyQualifiedName": null,
                                    "dataType": "System.Int32, System.Private.CoreLib, Version=4.0.0.0, Culture=neutral, PublicKeyToken=7cec85d7bea7798e",
                                    "dataTypeName": "int"
                                },
                                {
                                    "isBytes": false,
                                    "isChars": false,
                                    "isSqlVariant": false,
                                    "isUdt": false,
                                    "isXml": false,
                                    "isJson": false,
                                    "sqlDbType": 8,
                                    "isHierarchyId": false,
                                    "isSqlXmlType": false,
                                    "isUnknownType": false,
                                    "isUpdatable": true,
                                    "allowDBNull": true,
                                    "baseCatalogName": null,
                                    "baseColumnName": null,
                                    "baseSchemaName": null,
                                    "baseServerName": null,
                                    "baseTableName": null,
                                    "columnName": "DynamicPriceID",
                                    "columnOrdinal": 7,
                                    "columnSize": 4,
                                    "isAliased": null,
                                    "isAutoIncrement": false,
                                    "isExpression": null,
                                    "isHidden": null,
                                    "isIdentity": false,
                                    "isKey": null,
                                    "isLong": false,
                                    "isReadOnly": false,
                                    "isUnique": false,
                                    "numericPrecision": 10,
                                    "numericScale": 255,
                                    "udtAssemblyQualifiedName": null,
                                    "dataType": "System.Int32, System.Private.CoreLib, Version=4.0.0.0, Culture=neutral, PublicKeyToken=7cec85d7bea7798e",
                                    "dataTypeName": "int"
                                },
                                {
                                    "isBytes": false,
                                    "isChars": false,
                                    "isSqlVariant": false,
                                    "isUdt": false,
                                    "isXml": false,
                                    "isJson": false,
                                    "sqlDbType": 8,
                                    "isHierarchyId": false,
                                    "isSqlXmlType": false,
                                    "isUnknownType": false,
                                    "isUpdatable": true,
                                    "allowDBNull": true,
                                    "baseCatalogName": null,
                                    "baseColumnName": null,
                                    "baseSchemaName": null,
                                    "baseServerName": null,
                                    "baseTableName": null,
                                    "columnName": "BillableItemID",
                                    "columnOrdinal": 8,
                                    "columnSize": 4,
                                    "isAliased": null,
                                    "isAutoIncrement": false,
                                    "isExpression": null,
                                    "isHidden": null,
                                    "isIdentity": false,
                                    "isKey": null,
                                    "isLong": false,
                                    "isReadOnly": false,
                                    "isUnique": false,
                                    "numericPrecision": 10,
                                    "numericScale": 255,
                                    "udtAssemblyQualifiedName": null,
                                    "dataType": "System.Int32, System.Private.CoreLib, Version=4.0.0.0, Culture=neutral, PublicKeyToken=7cec85d7bea7798e",
                                    "dataTypeName": "int"
                                }
                            ],
                            "specialAction": {
                                "none": true,
                                "expectYukonXMLShowPlan": false
                            }
                        }
                    }
                }
            ],
            "execution_count": 3
        },
        {
            "cell_type": "markdown",
            "source": [
                "**Version Info**"
            ],
            "metadata": {
                "azdata_cell_guid": "84d13025-035d-47a5-9287-528b10715143"
            }
        },
        {
            "cell_type": "code",
            "source": [
                "USE GolfNowOne\n",
                "GO\n",
                ";\n",
                "\n",
                "SELECT\n",
                "*\n",
                "FROM [dbo].[dbverinfo]\n",
                "ORDER BY EventDate DESC"
            ],
            "metadata": {
                "azdata_cell_guid": "dced39a0-d9bb-409e-a134-e10f2e2fbd89",
                "tags": [
                    "hide_input"
                ]
            },
            "outputs": [],
            "execution_count": null
        },
        {
            "cell_type": "markdown",
            "source": [
                "**Begin Tran (ex.)**"
            ],
            "metadata": {
                "azdata_cell_guid": "760890b0-cf72-45c7-8119-19d4d0b7ffb0"
            }
        },
        {
            "cell_type": "code",
            "source": [
                "BEGIN TRAN\n",
                "--<full code>\n",
                "--select * from backupTableRef\n",
                "--select * from golfnowone.dbo.<tableUpdatedOrDeleted>\n",
                "ROLLBACK [COMMIT]"
            ],
            "metadata": {
                "azdata_cell_guid": "ba1cff55-0602-44ac-b241-dc68852e3aee",
                "tags": [
                    "hide_input"
                ]
            },
            "outputs": [],
            "execution_count": null
        },
        {
            "cell_type": "code",
            "source": [
                "USE GolfNowOne\n",
                "GO\n",
                "\n",
                "SELECT\n",
                "    TOP 50\n",
                "    COUNT(OI.ID), OI.OrderID, S.Name\n",
                "FROM [OrderItem] AS OI\n",
                "INNER JOIN [Order] AS O ON OI.OrderID = O.ID AND O.SourceID = 5\n",
                "INNER JOIN [Spa] AS S ON O.SpaID = S.ID\n",
                "GROUP BY OI.OrderID, S.Name\n",
                "HAVING COUNT(OI.ID) > 1\n",
                "ORDER BY COUNT(OI.ID) DESC"
            ],
            "metadata": {
                "azdata_cell_guid": "50ed4a67-0430-43af-b069-da7db653e2f5",
                "tags": [
                    "hide_input"
                ]
            },
            "outputs": [],
            "execution_count": null
        },
        {
            "cell_type": "markdown",
            "source": [
                "**Select Custom Customers**"
            ],
            "metadata": {
                "azdata_cell_guid": "72a041ca-c382-40fa-ad7a-2affb3b2e5a3"
            }
        },
        {
            "cell_type": "code",
            "source": [
                "USE GolfNowOne\n",
                "GO\n",
                ";\n",
                "\n",
                "SELECT\n",
                "    C.ID\n",
                "    ,C.FirstName\n",
                "    ,C.LastName\n",
                "    ,C.Email\n",
                "    ,C.GUID\n",
                "    ,C.DateLastModified\n",
                "    ,S.ID AS [LocationID]\n",
                "    ,S.Name AS [Location]\n",
                "    ,B.ID AS [BrandID]\n",
                "    ,B.Name AS [Brand]\n",
                "FROM Customer AS C\n",
                "INNER JOIN Spa AS S ON C.SpaID = S.ID AND S.ID = 35651\n",
                "LEFT JOIN Brand AS B ON S.BrandID = B.ID\n",
                "WHERE C.FirstName NOT LIKE 'First%' AND C.LastName NOT LIKE 'Last%'"
            ],
            "metadata": {
                "azdata_cell_guid": "62b3bce6-9d95-41d7-86a4-4b2bc4e53f90",
                "tags": [
                    "hide_input"
                ]
            },
            "outputs": [],
            "execution_count": null
        }
    ]
}